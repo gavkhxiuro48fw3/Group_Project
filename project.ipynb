{
 "cells": [
  {
   "cell_type": "markdown",
   "id": "dc3cc91b",
   "metadata": {},
   "source": [
    "# Powerball Lottery Game\n",
    "## Gavin Trumbull,\n",
    "## Joseph Guthrie,"
   ]
  },
  {
   "cell_type": "code",
   "execution_count": null,
   "id": "8862fa3d",
   "metadata": {},
   "outputs": [
    {
     "name": "stdout",
     "output_type": "stream",
     "text": [
      "pay $2 to play the powerball lottery: 2\n",
      "pick a number between 1 and 69: 1\n",
      "the number 1 has been added to your ticket\n",
      "pick a number between 1 and 69: 2\n",
      "the number 2 has been added to your ticket\n",
      "pick a number between 1 and 69: 3\n",
      "the number 3 has been added to your ticket\n",
      "pick a number between 1 and 69: 4\n",
      "the number 4 has been added to your ticket\n",
      "pick a number between 1 and 69: 5\n",
      "the number 5 has been added to your ticket\n",
      "now pick a powerball number between 1 and 26: 6\n",
      "the powerball number 6 has been added to your ticket\n",
      "your ticket contains the following numbers [1, 2, 3, 4, 5] and the chosen powernumber is [6]\n",
      "the winning numbers are [6, 27, 44, 46, 53] and the winning powerball number is [10]\n",
      "your lottery ticket was a loser\n",
      "would you like to play again?\n"
     ]
    }
   ],
   "source": [
    "game=True\n",
    "while game:\n",
    "    payment=int(input('pay $2 to play the powerball lottery: '))\n",
    "    if payment==2:\n",
    "        number_of_guesses=True\n",
    "        import random\n",
    "        correct_numbers=[]\n",
    "        firstnum=random.randrange(1,70)\n",
    "        correct_numbers.append(firstnum)\n",
    "        secondnum=random.randrange(1,70)\n",
    "        correct_numbers.append(secondnum)\n",
    "        thirdnum=random.randrange(1,70)\n",
    "        correct_numbers.append(thirdnum)\n",
    "        fourthnum=random.randrange(1,70)\n",
    "        correct_numbers.append(fourthnum)\n",
    "        fifthnum=random.randrange(1,70)\n",
    "        correct_numbers.append(fifthnum)\n",
    "        correct_powernumber=[]\n",
    "        powernumber=random.randrange(1,27)\n",
    "        correct_powernumber.append(powernumber)\n",
    "        guesses=[]\n",
    "        powerballguess=[]\n",
    "        while len(guesses)<=5:\n",
    "            guess=int(input(\"pick a number between 1 and 69: \"))\n",
    "            if len(guesses)<4:\n",
    "                guesses.append(guess)\n",
    "                print(f'the number {guess} has been added to your ticket')\n",
    "            else:\n",
    "                guesses.append(guess)\n",
    "                print(f'the number {guess} has been added to your ticket')\n",
    "                break\n",
    "        powerguess=int(input(\"now pick a powerball number between 1 and 26: \"))\n",
    "        powerballguess.append(powerguess)\n",
    "        print(f'the powerball number {powerguess} has been added to your ticket')\n",
    "\n",
    "        print(f'your ticket contains the following numbers {guesses} and the chosen powernumber is {powerballguess}')\n",
    "        \n",
    "        correct_numbers.sort()\n",
    "        guesses.sort()\n",
    "        correct_guesses=[]\n",
    "        correct_powerguess=[]\n",
    "        print(f'the winning numbers are {correct_numbers} and the winning powerball number is {correct_powernumber}')\n",
    "        for i in guesses:\n",
    "            if i in correct_numbers:\n",
    "                correct_guesses.append(i)\n",
    "        for i in powerballguess:\n",
    "            if i in correct_powernumber:\n",
    "                correct_powerguess.append(i)\n",
    "\n",
    "        def number_of_solutions(sett):\n",
    "            return len(sett)\n",
    "        if number_of_solutions(correct_guesses)==0 and len(correct_powerguess)==1:\n",
    "            print('your powerball guess was correct and you won $4')\n",
    "        elif number_of_solutions(correct_guesses)==1 and len(correct_powerguess)==1:\n",
    "            print('your powerball number and one other number were correct and you won $4')\n",
    "        elif number_of_solutions(correct_guesses)==2 and len(correct_powerguess)==1:\n",
    "            print('your powerball number and two other guesses were correct and you won $7')\n",
    "        elif number_of_solutions(correct_guesses)==3 and len(correct_powerguess)==0:\n",
    "            print('you got three correct guesses and won $7')\n",
    "        elif number_of_solutions(correct_guesses)==3 and len(correct_powerguess)==1:\n",
    "            print('your powerball number and three other guesses were correct and you won $100')\n",
    "        elif number_of_solutions(correct_guesses)==4 and len(correct_powerguess)==0:\n",
    "            print('you got four corrcet guesses and won $100')\n",
    "        elif number_of_solutions(correct_guesses)==4 and len(correct_powerguess)==1:\n",
    "            print('your powerball number and four other guesses were correct and you won $50,000')\n",
    "        elif number_of_solutions(correct_guesses)==5 and len(correct_powerguess)==0:\n",
    "            print('you got five correct guesses and you won $1,000,000')\n",
    "        elif number_of_solutions(correct_guesses)==5 and len(correct_powerguess)==1:\n",
    "            print('all of your numbers were correct and you won the grand prize of $15,000,000')\n",
    "        else:\n",
    "            print('your lottery ticket was a loser')\n",
    "        print('would you like to play again?')\n",
    "    else:\n",
    "        print('you have not paid for the lottery ticket')\n",
    "        break"
   ]
  },
  {
   "cell_type": "code",
   "execution_count": null,
   "id": "4b52e0e4",
   "metadata": {},
   "outputs": [],
   "source": [
    "\n",
    "\n",
    "     print(correct_numbers)\n",
    "        print(correct_powernumber)"
   ]
  }
 ],
 "metadata": {
  "kernelspec": {
   "display_name": "Python 3 (ipykernel)",
   "language": "python",
   "name": "python3"
  },
  "language_info": {
   "codemirror_mode": {
    "name": "ipython",
    "version": 3
   },
   "file_extension": ".py",
   "mimetype": "text/x-python",
   "name": "python",
   "nbconvert_exporter": "python",
   "pygments_lexer": "ipython3",
   "version": "3.9.13"
  }
 },
 "nbformat": 4,
 "nbformat_minor": 5
}
